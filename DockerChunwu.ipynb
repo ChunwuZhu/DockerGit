{
 "cells": [
  {
   "cell_type": "markdown",
   "metadata": {},
   "source": [
    "# A01 YOLOv8\n",
    "- docker file: https://hub.docker.com/r/ultralytics/ultralytics"
   ]
  },
  {
   "cell_type": "markdown",
   "metadata": {},
   "source": [
    "## A01A01 Test YOLOv8\n",
    "\n",
    "- check if okay"
   ]
  },
  {
   "cell_type": "code",
   "execution_count": 4,
   "metadata": {},
   "outputs": [
    {
     "name": "stderr",
     "output_type": "stream",
     "text": [
      "Ultralytics YOLOv8.0.150 🚀 Python-3.10.12 torch-2.0.1+cu117 CUDA:0 (NVIDIA TITAN RTX, 24212MiB)\n",
      "Setup complete ✅ (48 CPUs, 251.5 GB RAM, 181.2/195.8 GB disk)\n"
     ]
    }
   ],
   "source": [
    "# %pip install ultralytics\n",
    "import ultralytics\n",
    "ultralytics.checks()"
   ]
  },
  {
   "cell_type": "markdown",
   "metadata": {},
   "source": [
    "- Predict using yolov8\n",
    "\n",
    "YOLOv8 may be used directly in the Command Line Interface (CLI) with a `yolo` command for a variety of tasks and modes and accepts additional arguments, i.e. `imgsz=640`. See a full list of available `yolo` [arguments](https://docs.ultralytics.com/usage/cfg/) and other details in the [YOLOv8 Predict Docs](https://docs.ultralytics.com/modes/train/)."
   ]
  },
  {
   "cell_type": "code",
   "execution_count": 2,
   "metadata": {},
   "outputs": [
    {
     "name": "stdout",
     "output_type": "stream",
     "text": [
      "Downloading https://github.com/ultralytics/assets/releases/download/v0.0.0/yolov8n.pt to 'yolov8n.pt'...\n",
      "100%|██████████████████████████████████████| 6.23M/6.23M [00:00<00:00, 35.9MB/s]\n",
      "Ultralytics YOLOv8.0.149 🚀 Python-3.10.11 torch-2.0.1 CUDA:0 (NVIDIA GeForce RTX 2070 SUPER, 8192MiB)\n",
      "YOLOv8n summary (fused): 168 layers, 3151904 parameters, 0 gradients, 8.7 GFLOPs\n",
      "\n",
      "image 1/1 /usr/src/ultralytics/Datasets/MapilaryTrafficSignDataset/images/_dbXPzzIvc5sTt5VNcVCHQ.jpg: 480x640 1 person, 3 cars, 2 traffic lights, 36.2ms\n",
      "Speed: 3.1ms preprocess, 36.2ms inference, 2.4ms postprocess per image at shape (1, 3, 480, 640)\n",
      "Results saved to \u001b[1m/usr/src/ultralytics/runs/detect/predict3\u001b[0m\n"
     ]
    }
   ],
   "source": [
    "# My example\n",
    "!yolo predict model=yolov8n.pt source=\"/usr/src/ultralytics/Datasets/MapilaryTrafficSignDataset/images/_dbXPzzIvc5sTt5VNcVCHQ.jpg\""
   ]
  },
  {
   "cell_type": "markdown",
   "metadata": {},
   "source": [
    "<img align=\"left\" src=\"/usr/src/ultralytics/runs/detect/predict2/_dbXPzzIvc5sTt5VNcVCHQ.jpg\" width=\"600\">"
   ]
  },
  {
   "cell_type": "markdown",
   "metadata": {},
   "source": [
    "## A01A02 Train a Traffic Sign Classification model using YOLOv8\n",
    "\n",
    "- YOLO classify document: https://docs.ultralytics.com/tasks/classify/\n",
    "- Prepare dataset, done in windows"
   ]
  },
  {
   "cell_type": "code",
   "execution_count": 5,
   "metadata": {},
   "outputs": [
    {
     "name": "stderr",
     "output_type": "stream",
     "text": [
      "\n",
      "                   from  n    params  module                                       arguments                     \n",
      "  0                  -1  1       464  ultralytics.nn.modules.conv.Conv             [3, 16, 3, 2]                 \n",
      "  1                  -1  1      4672  ultralytics.nn.modules.conv.Conv             [16, 32, 3, 2]                \n",
      "  2                  -1  1      7360  ultralytics.nn.modules.block.C2f             [32, 32, 1, True]             \n",
      "  3                  -1  1     18560  ultralytics.nn.modules.conv.Conv             [32, 64, 3, 2]                \n",
      "  4                  -1  2     49664  ultralytics.nn.modules.block.C2f             [64, 64, 2, True]             \n",
      "  5                  -1  1     73984  ultralytics.nn.modules.conv.Conv             [64, 128, 3, 2]               \n",
      "  6                  -1  2    197632  ultralytics.nn.modules.block.C2f             [128, 128, 2, True]           \n",
      "  7                  -1  1    295424  ultralytics.nn.modules.conv.Conv             [128, 256, 3, 2]              \n",
      "  8                  -1  1    460288  ultralytics.nn.modules.block.C2f             [256, 256, 1, True]           \n",
      "  9                  -1  1   1611240  ultralytics.nn.modules.head.Classify         [256, 1000]                   \n",
      "YOLOv8n-cls summary: 99 layers, 2719288 parameters, 2719288 gradients\n",
      "Ultralytics YOLOv8.0.150 🚀 Python-3.10.12 torch-2.0.1+cu117 CUDA:1 (NVIDIA TITAN RTX, 24212MiB)\n",
      "                                                             CUDA:2 (NVIDIA TITAN RTX, 24212MiB)\n",
      "                                                             CUDA:3 (NVIDIA TITAN RTX, 24212MiB)\n",
      "                                                             CUDA:4 (NVIDIA TITAN RTX, 24212MiB)\n",
      "\u001b[34m\u001b[1mengine/trainer: \u001b[0mtask=classify, mode=train, model=yolov8n-cls.yaml, data=/tank/data/chunwu.zhu/TrafficSignTrainingData/DatasetForYOLOv8, epochs=10, patience=50, batch=16, imgsz=224, save=True, save_period=-1, cache=False, device=[1, 2, 3, 4], workers=8, project=None, name=None, exist_ok=False, pretrained=True, optimizer=auto, verbose=True, seed=0, deterministic=True, single_cls=False, rect=False, cos_lr=False, close_mosaic=10, resume=False, amp=True, fraction=1.0, profile=False, overlap_mask=True, mask_ratio=4, dropout=0.0, val=True, split=val, save_json=False, save_hybrid=False, conf=None, iou=0.7, max_det=300, half=False, dnn=False, plots=True, source=None, show=False, save_txt=False, save_conf=False, save_crop=False, show_labels=True, show_conf=True, vid_stride=1, line_width=None, visualize=False, augment=False, agnostic_nms=False, classes=None, retina_masks=False, boxes=True, format=torchscript, keras=False, optimize=False, int8=False, dynamic=False, simplify=False, opset=None, workspace=4, nms=False, lr0=0.01, lrf=0.01, momentum=0.937, weight_decay=0.0005, warmup_epochs=3.0, warmup_momentum=0.8, warmup_bias_lr=0.1, box=7.5, cls=0.5, dfl=1.5, pose=12.0, kobj=1.0, label_smoothing=0.0, nbs=64, hsv_h=0.015, hsv_s=0.7, hsv_v=0.4, degrees=0.0, translate=0.1, scale=0.5, shear=0.0, perspective=0.0, flipud=0.0, fliplr=0.5, mosaic=1.0, mixup=0.0, copy_paste=0.0, cfg=None, tracker=botsort.yaml, save_dir=runs/classify/train2\n",
      "Overriding model.yaml nc=1000 with nc=401\n",
      "\n",
      "                   from  n    params  module                                       arguments                     \n",
      "  0                  -1  1       464  ultralytics.nn.modules.conv.Conv             [3, 16, 3, 2]                 \n",
      "  1                  -1  1      4672  ultralytics.nn.modules.conv.Conv             [16, 32, 3, 2]                \n",
      "  2                  -1  1      7360  ultralytics.nn.modules.block.C2f             [32, 32, 1, True]             \n",
      "  3                  -1  1     18560  ultralytics.nn.modules.conv.Conv             [32, 64, 3, 2]                \n",
      "  4                  -1  2     49664  ultralytics.nn.modules.block.C2f             [64, 64, 2, True]             \n",
      "  5                  -1  1     73984  ultralytics.nn.modules.conv.Conv             [64, 128, 3, 2]               \n",
      "  6                  -1  2    197632  ultralytics.nn.modules.block.C2f             [128, 128, 2, True]           \n",
      "  7                  -1  1    295424  ultralytics.nn.modules.conv.Conv             [128, 256, 3, 2]              \n",
      "  8                  -1  1    460288  ultralytics.nn.modules.block.C2f             [256, 256, 1, True]           \n",
      "  9                  -1  1    843921  ultralytics.nn.modules.head.Classify         [256, 401]                    \n",
      "YOLOv8n-cls summary: 99 layers, 1951969 parameters, 1951969 gradients\n",
      "DDP command: ['/tank/data/chunwu.zhu/conda/envs/yolo/bin/python', '-m', 'torch.distributed.run', '--nproc_per_node', '6', '--master_port', '48889', '/tank/data/chunwu.zhu/conda/envs/yolo/lib/python3.10/site-packages/ipykernel_launcher.py']\n",
      "WARNING:__main__:\n",
      "*****************************************\n",
      "Setting OMP_NUM_THREADS environment variable for each process to be 1 in default, to avoid your system being overloaded, please further tune the variable for optimal performance in your application as needed. \n",
      "*****************************************\n"
     ]
    },
    {
     "name": "stdout",
     "output_type": "stream",
     "text": [
      "NOTE: When using the `ipython kernel` entry point, Ctrl-C will not work.\n",
      "\n",
      "To exit, you will have to explicitly quit this process, by either sending\n",
      "\"quit\" from a client, or using Ctrl-\\ in UNIX-like environments.\n",
      "\n",
      "To read more about this, see https://github.com/ipython/ipython/issues/2049\n",
      "\n",
      "\n",
      "To connect another client to this kernel, use:\n",
      "    --existing kernel-1821418.json\n",
      "NOTE: When using the `ipython kernel` entry point, Ctrl-C will not work.\n",
      "\n",
      "To exit, you will have to explicitly quit this process, by either sending\n",
      "\"quit\" from a client, or using Ctrl-\\ in UNIX-like environments.\n",
      "\n",
      "To read more about this, see https://github.com/ipython/ipython/issues/2049\n",
      "\n",
      "\n",
      "To connect another client to this kernel, use:\n",
      "    --existing kernel-1821427.json\n",
      "NOTE: When using the `ipython kernel` entry point, Ctrl-C will not work.\n",
      "\n",
      "To exit, you will have to explicitly quit this process, by either sending\n",
      "\"quit\" from a client, or using Ctrl-\\ in UNIX-like environments.\n",
      "\n",
      "To read more about this, see https://github.com/ipython/ipython/issues/2049\n",
      "\n",
      "\n",
      "To connect another client to this kernel, use:\n",
      "    --existing kernel-1821435.json\n",
      "NOTE: When using the `ipython kernel` entry point, Ctrl-C will not work.\n",
      "\n",
      "To exit, you will have to explicitly quit this process, by either sending\n",
      "\"quit\" from a client, or using Ctrl-\\ in UNIX-like environments.\n",
      "\n",
      "To read more about this, see https://github.com/ipython/ipython/issues/2049\n",
      "\n",
      "\n",
      "To connect another client to this kernel, use:\n",
      "    --existing kernel-1821424.json\n",
      "NOTE: When using the `ipython kernel` entry point, Ctrl-C will not work.\n",
      "\n",
      "To exit, you will have to explicitly quit this process, by either sending\n",
      "\"quit\" from a client, or using Ctrl-\\ in UNIX-like environments.\n",
      "\n",
      "To read more about this, see https://github.com/ipython/ipython/issues/2049\n",
      "\n",
      "\n",
      "To connect another client to this kernel, use:\n",
      "    --existing kernel-1821417.json\n",
      "NOTE: When using the `ipython kernel` entry point, Ctrl-C will not work.\n",
      "\n",
      "To exit, you will have to explicitly quit this process, by either sending\n",
      "\"quit\" from a client, or using Ctrl-\\ in UNIX-like environments.\n",
      "\n",
      "To read more about this, see https://github.com/ipython/ipython/issues/2049\n",
      "\n",
      "\n",
      "To connect another client to this kernel, use:\n",
      "    --existing kernel-1821431.json\n"
     ]
    },
    {
     "ename": "KeyboardInterrupt",
     "evalue": "",
     "output_type": "error",
     "traceback": [
      "\u001b[0;31m---------------------------------------------------------------------------\u001b[0m",
      "\u001b[0;31mKeyboardInterrupt\u001b[0m                         Traceback (most recent call last)",
      "Cell \u001b[0;32mIn[5], line 6\u001b[0m\n\u001b[1;32m      2\u001b[0m model \u001b[39m=\u001b[39m YOLO(\u001b[39m'\u001b[39m\u001b[39myolov8n-cls.yaml\u001b[39m\u001b[39m'\u001b[39m)  \u001b[39m# build a new model from YAML\u001b[39;00m\n\u001b[1;32m      3\u001b[0m \u001b[39m# in docker\u001b[39;00m\n\u001b[1;32m      4\u001b[0m \u001b[39m# model.train(data='/usr/src/ultralytics/Datasets/MapilaryTrafficSignDataset/DatasetForYOLOv8', epochs=10)\u001b[39;00m\n\u001b[1;32m      5\u001b[0m \u001b[39m# in server, yolo env\u001b[39;00m\n\u001b[0;32m----> 6\u001b[0m model\u001b[39m.\u001b[39;49mtrain(data\u001b[39m=\u001b[39;49m\u001b[39m'\u001b[39;49m\u001b[39m/tank/data/chunwu.zhu/TrafficSignTrainingData/DatasetForYOLOv8\u001b[39;49m\u001b[39m'\u001b[39;49m, epochs\u001b[39m=\u001b[39;49m\u001b[39m10\u001b[39;49m, device\u001b[39m=\u001b[39;49m[\u001b[39m1\u001b[39;49m,\u001b[39m2\u001b[39;49m,\u001b[39m3\u001b[39;49m,\u001b[39m4\u001b[39;49m])\n",
      "File \u001b[0;32m/tank/data/chunwu.zhu/conda/envs/yolo/lib/python3.10/site-packages/ultralytics/engine/model.py:377\u001b[0m, in \u001b[0;36mModel.train\u001b[0;34m(self, trainer, **kwargs)\u001b[0m\n\u001b[1;32m    375\u001b[0m     \u001b[39mself\u001b[39m\u001b[39m.\u001b[39mmodel \u001b[39m=\u001b[39m \u001b[39mself\u001b[39m\u001b[39m.\u001b[39mtrainer\u001b[39m.\u001b[39mmodel\n\u001b[1;32m    376\u001b[0m \u001b[39mself\u001b[39m\u001b[39m.\u001b[39mtrainer\u001b[39m.\u001b[39mhub_session \u001b[39m=\u001b[39m \u001b[39mself\u001b[39m\u001b[39m.\u001b[39msession  \u001b[39m# attach optional HUB session\u001b[39;00m\n\u001b[0;32m--> 377\u001b[0m \u001b[39mself\u001b[39;49m\u001b[39m.\u001b[39;49mtrainer\u001b[39m.\u001b[39;49mtrain()\n\u001b[1;32m    378\u001b[0m \u001b[39m# Update model and cfg after training\u001b[39;00m\n\u001b[1;32m    379\u001b[0m \u001b[39mif\u001b[39;00m RANK \u001b[39min\u001b[39;00m (\u001b[39m-\u001b[39m\u001b[39m1\u001b[39m, \u001b[39m0\u001b[39m):\n",
      "File \u001b[0;32m/tank/data/chunwu.zhu/conda/envs/yolo/lib/python3.10/site-packages/ultralytics/engine/trainer.py:186\u001b[0m, in \u001b[0;36mBaseTrainer.train\u001b[0;34m(self)\u001b[0m\n\u001b[1;32m    184\u001b[0m \u001b[39mtry\u001b[39;00m:\n\u001b[1;32m    185\u001b[0m     LOGGER\u001b[39m.\u001b[39minfo(\u001b[39mf\u001b[39m\u001b[39m'\u001b[39m\u001b[39mDDP command: \u001b[39m\u001b[39m{\u001b[39;00mcmd\u001b[39m}\u001b[39;00m\u001b[39m'\u001b[39m)\n\u001b[0;32m--> 186\u001b[0m     subprocess\u001b[39m.\u001b[39;49mrun(cmd, check\u001b[39m=\u001b[39;49m\u001b[39mTrue\u001b[39;49;00m)\n\u001b[1;32m    187\u001b[0m \u001b[39mexcept\u001b[39;00m \u001b[39mException\u001b[39;00m \u001b[39mas\u001b[39;00m e:\n\u001b[1;32m    188\u001b[0m     \u001b[39mraise\u001b[39;00m e\n",
      "File \u001b[0;32m/tank/data/chunwu.zhu/conda/envs/yolo/lib/python3.10/subprocess.py:505\u001b[0m, in \u001b[0;36mrun\u001b[0;34m(input, capture_output, timeout, check, *popenargs, **kwargs)\u001b[0m\n\u001b[1;32m    503\u001b[0m \u001b[39mwith\u001b[39;00m Popen(\u001b[39m*\u001b[39mpopenargs, \u001b[39m*\u001b[39m\u001b[39m*\u001b[39mkwargs) \u001b[39mas\u001b[39;00m process:\n\u001b[1;32m    504\u001b[0m     \u001b[39mtry\u001b[39;00m:\n\u001b[0;32m--> 505\u001b[0m         stdout, stderr \u001b[39m=\u001b[39m process\u001b[39m.\u001b[39;49mcommunicate(\u001b[39minput\u001b[39;49m, timeout\u001b[39m=\u001b[39;49mtimeout)\n\u001b[1;32m    506\u001b[0m     \u001b[39mexcept\u001b[39;00m TimeoutExpired \u001b[39mas\u001b[39;00m exc:\n\u001b[1;32m    507\u001b[0m         process\u001b[39m.\u001b[39mkill()\n",
      "File \u001b[0;32m/tank/data/chunwu.zhu/conda/envs/yolo/lib/python3.10/subprocess.py:1146\u001b[0m, in \u001b[0;36mPopen.communicate\u001b[0;34m(self, input, timeout)\u001b[0m\n\u001b[1;32m   1144\u001b[0m         stderr \u001b[39m=\u001b[39m \u001b[39mself\u001b[39m\u001b[39m.\u001b[39mstderr\u001b[39m.\u001b[39mread()\n\u001b[1;32m   1145\u001b[0m         \u001b[39mself\u001b[39m\u001b[39m.\u001b[39mstderr\u001b[39m.\u001b[39mclose()\n\u001b[0;32m-> 1146\u001b[0m     \u001b[39mself\u001b[39;49m\u001b[39m.\u001b[39;49mwait()\n\u001b[1;32m   1147\u001b[0m \u001b[39melse\u001b[39;00m:\n\u001b[1;32m   1148\u001b[0m     \u001b[39mif\u001b[39;00m timeout \u001b[39mis\u001b[39;00m \u001b[39mnot\u001b[39;00m \u001b[39mNone\u001b[39;00m:\n",
      "File \u001b[0;32m/tank/data/chunwu.zhu/conda/envs/yolo/lib/python3.10/subprocess.py:1209\u001b[0m, in \u001b[0;36mPopen.wait\u001b[0;34m(self, timeout)\u001b[0m\n\u001b[1;32m   1207\u001b[0m     endtime \u001b[39m=\u001b[39m _time() \u001b[39m+\u001b[39m timeout\n\u001b[1;32m   1208\u001b[0m \u001b[39mtry\u001b[39;00m:\n\u001b[0;32m-> 1209\u001b[0m     \u001b[39mreturn\u001b[39;00m \u001b[39mself\u001b[39;49m\u001b[39m.\u001b[39;49m_wait(timeout\u001b[39m=\u001b[39;49mtimeout)\n\u001b[1;32m   1210\u001b[0m \u001b[39mexcept\u001b[39;00m \u001b[39mKeyboardInterrupt\u001b[39;00m:\n\u001b[1;32m   1211\u001b[0m     \u001b[39m# https://bugs.python.org/issue25942\u001b[39;00m\n\u001b[1;32m   1212\u001b[0m     \u001b[39m# The first keyboard interrupt waits briefly for the child to\u001b[39;00m\n\u001b[1;32m   1213\u001b[0m     \u001b[39m# exit under the common assumption that it also received the ^C\u001b[39;00m\n\u001b[1;32m   1214\u001b[0m     \u001b[39m# generated SIGINT and will exit rapidly.\u001b[39;00m\n\u001b[1;32m   1215\u001b[0m     \u001b[39mif\u001b[39;00m timeout \u001b[39mis\u001b[39;00m \u001b[39mnot\u001b[39;00m \u001b[39mNone\u001b[39;00m:\n",
      "File \u001b[0;32m/tank/data/chunwu.zhu/conda/envs/yolo/lib/python3.10/subprocess.py:1959\u001b[0m, in \u001b[0;36mPopen._wait\u001b[0;34m(self, timeout)\u001b[0m\n\u001b[1;32m   1957\u001b[0m \u001b[39mif\u001b[39;00m \u001b[39mself\u001b[39m\u001b[39m.\u001b[39mreturncode \u001b[39mis\u001b[39;00m \u001b[39mnot\u001b[39;00m \u001b[39mNone\u001b[39;00m:\n\u001b[1;32m   1958\u001b[0m     \u001b[39mbreak\u001b[39;00m  \u001b[39m# Another thread waited.\u001b[39;00m\n\u001b[0;32m-> 1959\u001b[0m (pid, sts) \u001b[39m=\u001b[39m \u001b[39mself\u001b[39;49m\u001b[39m.\u001b[39;49m_try_wait(\u001b[39m0\u001b[39;49m)\n\u001b[1;32m   1960\u001b[0m \u001b[39m# Check the pid and loop as waitpid has been known to\u001b[39;00m\n\u001b[1;32m   1961\u001b[0m \u001b[39m# return 0 even without WNOHANG in odd situations.\u001b[39;00m\n\u001b[1;32m   1962\u001b[0m \u001b[39m# http://bugs.python.org/issue14396.\u001b[39;00m\n\u001b[1;32m   1963\u001b[0m \u001b[39mif\u001b[39;00m pid \u001b[39m==\u001b[39m \u001b[39mself\u001b[39m\u001b[39m.\u001b[39mpid:\n",
      "File \u001b[0;32m/tank/data/chunwu.zhu/conda/envs/yolo/lib/python3.10/subprocess.py:1917\u001b[0m, in \u001b[0;36mPopen._try_wait\u001b[0;34m(self, wait_flags)\u001b[0m\n\u001b[1;32m   1915\u001b[0m \u001b[39m\u001b[39m\u001b[39m\"\"\"All callers to this function MUST hold self._waitpid_lock.\"\"\"\u001b[39;00m\n\u001b[1;32m   1916\u001b[0m \u001b[39mtry\u001b[39;00m:\n\u001b[0;32m-> 1917\u001b[0m     (pid, sts) \u001b[39m=\u001b[39m os\u001b[39m.\u001b[39;49mwaitpid(\u001b[39mself\u001b[39;49m\u001b[39m.\u001b[39;49mpid, wait_flags)\n\u001b[1;32m   1918\u001b[0m \u001b[39mexcept\u001b[39;00m \u001b[39mChildProcessError\u001b[39;00m:\n\u001b[1;32m   1919\u001b[0m     \u001b[39m# This happens if SIGCLD is set to be ignored or waiting\u001b[39;00m\n\u001b[1;32m   1920\u001b[0m     \u001b[39m# for child processes has otherwise been disabled for our\u001b[39;00m\n\u001b[1;32m   1921\u001b[0m     \u001b[39m# process.  This child is dead, we can't get the status.\u001b[39;00m\n\u001b[1;32m   1922\u001b[0m     pid \u001b[39m=\u001b[39m \u001b[39mself\u001b[39m\u001b[39m.\u001b[39mpid\n",
      "\u001b[0;31mKeyboardInterrupt\u001b[0m: "
     ]
    }
   ],
   "source": [
    "from ultralytics import YOLO\n",
    "model = YOLO('yolov8n-cls.yaml')  # build a new model from YAML\n",
    "# in docker\n",
    "# model.train(data='/usr/src/ultralytics/Datasets/MapilaryTrafficSignDataset/DatasetForYOLOv8', epochs=10)\n",
    "# in server, yolo env\n",
    "# Use CLI, because notebook will have problem : yolo classify train data=/tank/data/chunwu.zhu/TrafficSignTrainingData/DatasetForYOLOv8 epochs=10 device=0,1,2,3\n",
    "# not fast, four GPU, ~9 it/s\n",
    "model.train(data='/tank/data/chunwu.zhu/TrafficSignTrainingData/DatasetForYOLOv8', epochs=10, device=[1,2,3,4])"
   ]
  },
  {
   "cell_type": "code",
   "execution_count": null,
   "metadata": {},
   "outputs": [],
   "source": []
  }
 ],
 "metadata": {
  "kernelspec": {
   "display_name": "base",
   "language": "python",
   "name": "python3"
  },
  "language_info": {
   "codemirror_mode": {
    "name": "ipython",
    "version": 3
   },
   "file_extension": ".py",
   "mimetype": "text/x-python",
   "name": "python",
   "nbconvert_exporter": "python",
   "pygments_lexer": "ipython3",
   "version": "3.10.12"
  },
  "orig_nbformat": 4
 },
 "nbformat": 4,
 "nbformat_minor": 2
}
