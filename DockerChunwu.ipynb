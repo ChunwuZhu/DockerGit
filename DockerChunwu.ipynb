{
 "cells": [
  {
   "cell_type": "markdown",
   "metadata": {},
   "source": [
    "# A01 YOLOv8\n",
    "- docker file: https://hub.docker.com/r/ultralytics/ultralytics"
   ]
  },
  {
   "cell_type": "markdown",
   "metadata": {},
   "source": [
    "## A01A01 Test YOLOv8\n",
    "\n",
    "- check if okay"
   ]
  },
  {
   "cell_type": "code",
   "execution_count": 1,
   "metadata": {},
   "outputs": [
    {
     "name": "stderr",
     "output_type": "stream",
     "text": [
      "Ultralytics YOLOv8.0.149 🚀 Python-3.10.11 torch-2.0.1 CUDA:0 (NVIDIA GeForce RTX 2070 SUPER, 8192MiB)\n",
      "Setup complete ✅ (16 CPUs, 15.6 GB RAM, 28.9/250.9 GB disk)\n"
     ]
    }
   ],
   "source": [
    "%pip install ultralytics\n",
    "import ultralytics\n",
    "ultralytics.checks()"
   ]
  },
  {
   "cell_type": "markdown",
   "metadata": {},
   "source": [
    "- Predict using yolov8\n",
    "\n",
    "YOLOv8 may be used directly in the Command Line Interface (CLI) with a `yolo` command for a variety of tasks and modes and accepts additional arguments, i.e. `imgsz=640`. See a full list of available `yolo` [arguments](https://docs.ultralytics.com/usage/cfg/) and other details in the [YOLOv8 Predict Docs](https://docs.ultralytics.com/modes/train/)."
   ]
  },
  {
   "cell_type": "code",
   "execution_count": 2,
   "metadata": {},
   "outputs": [
    {
     "name": "stdout",
     "output_type": "stream",
     "text": [
      "Downloading https://github.com/ultralytics/assets/releases/download/v0.0.0/yolov8n.pt to 'yolov8n.pt'...\n",
      "100%|██████████████████████████████████████| 6.23M/6.23M [00:00<00:00, 35.9MB/s]\n",
      "Ultralytics YOLOv8.0.149 🚀 Python-3.10.11 torch-2.0.1 CUDA:0 (NVIDIA GeForce RTX 2070 SUPER, 8192MiB)\n",
      "YOLOv8n summary (fused): 168 layers, 3151904 parameters, 0 gradients, 8.7 GFLOPs\n",
      "\n",
      "image 1/1 /usr/src/ultralytics/Datasets/MapilaryTrafficSignDataset/images/_dbXPzzIvc5sTt5VNcVCHQ.jpg: 480x640 1 person, 3 cars, 2 traffic lights, 36.2ms\n",
      "Speed: 3.1ms preprocess, 36.2ms inference, 2.4ms postprocess per image at shape (1, 3, 480, 640)\n",
      "Results saved to \u001b[1m/usr/src/ultralytics/runs/detect/predict3\u001b[0m\n"
     ]
    }
   ],
   "source": [
    "# My example\n",
    "!yolo predict model=yolov8n.pt source=\"/usr/src/ultralytics/Datasets/MapilaryTrafficSignDataset/images/_dbXPzzIvc5sTt5VNcVCHQ.jpg\""
   ]
  },
  {
   "cell_type": "markdown",
   "metadata": {},
   "source": [
    "<img align=\"left\" src=\"/usr/src/ultralytics/runs/detect/predict2/_dbXPzzIvc5sTt5VNcVCHQ.jpg\" width=\"600\">"
   ]
  },
  {
   "cell_type": "markdown",
   "metadata": {},
   "source": [
    "## A01A02 Train a Traffic Sign Classification model using YOLOv8\n",
    "\n",
    "YOLO classify document: https://docs.ultralytics.com/tasks/classify/"
   ]
  },
  {
   "cell_type": "markdown",
   "metadata": {},
   "source": [
    "- Create image classification dataset of traffic sign"
   ]
  },
  {
   "cell_type": "code",
   "execution_count": null,
   "metadata": {},
   "outputs": [],
   "source": []
  }
 ],
 "metadata": {
  "kernelspec": {
   "display_name": "base",
   "language": "python",
   "name": "python3"
  },
  "language_info": {
   "codemirror_mode": {
    "name": "ipython",
    "version": 3
   },
   "file_extension": ".py",
   "mimetype": "text/x-python",
   "name": "python",
   "nbconvert_exporter": "python",
   "pygments_lexer": "ipython3",
   "version": "3.10.11"
  },
  "orig_nbformat": 4
 },
 "nbformat": 4,
 "nbformat_minor": 2
}
